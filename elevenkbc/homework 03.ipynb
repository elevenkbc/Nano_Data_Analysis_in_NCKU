{
 "metadata": {
  "name": "",
  "signature": "sha256:26e211e7d06f7724c777572de7307d35d3ea89c31048ab6b71b154e4c7c5ce5d"
 },
 "nbformat": 3,
 "nbformat_minor": 0,
 "worksheets": [
  {
   "cells": [
    {
     "cell_type": "code",
     "collapsed": false,
     "input": [
      "%pylab inline\n",
      "namelist=[\"\u8cf4\u653f\u7ff0\",\"\u8cf4\u4f73\u7469\",\"\u5433\u9e97\u59cd\",\"\u6ed5\u4f36\u5fd7\",\"\u8d99\u52ad\u8aa0\",\"\u912d\u51f1\u5176\",\"\u6797\u5bb6\u5f18\",\"\u6f58\u5b97\u9054\",\"\u9127\u4f51\u706b\",\"\u66fe\u5c39\u5929\",\"\u694a\u5fd7\u8c6a\",\"\u9673\u535a\u6587\",\"\u6c5f\u7fa4\u6e90\",\"\u912d\u51f1\u5176\"]\n",
      "for i in range(6):\n",
      "    score1=randint(0,100)\n",
      "    score2=randint(0,100)\n",
      "    score3=randint(0,100)\n",
      "    k=randint(0,12)\n",
      "    namelist[k]\n",
      "    print namelist[k],score1,score2,score3\n",
      "    f = open(\"score.csv\", 'w')\n",
      "    print >> f,namelist[k],score1,score2,score3\n",
      "    f.close()"
     ],
     "language": "python",
     "metadata": {},
     "outputs": [
      {
       "output_type": "stream",
       "stream": "stdout",
       "text": [
        "Populating the interactive namespace from numpy and matplotlib\n",
        "\u8d99\u52ad\u8aa0 68 26 15\n",
        "\u9127\u4f51\u706b 64 36 6\n",
        "\u8cf4\u653f\u7ff0 71 74 91\n",
        "\u6f58\u5b97\u9054 25 48 68\n",
        "\u6797\u5bb6\u5f18 15 32 28\n",
        "\u694a\u5fd7\u8c6a 28 26 13\n"
       ]
      },
      {
       "output_type": "stream",
       "stream": "stderr",
       "text": [
        "WARNING: pylab import has clobbered these variables: ['f']\n",
        "`%matplotlib` prevents importing * from pylab and numpy\n"
       ]
      }
     ],
     "prompt_number": 14
    },
    {
     "cell_type": "code",
     "collapsed": false,
     "input": [],
     "language": "python",
     "metadata": {},
     "outputs": [],
     "prompt_number": 12
    },
    {
     "cell_type": "code",
     "collapsed": false,
     "input": [],
     "language": "python",
     "metadata": {},
     "outputs": []
    }
   ],
   "metadata": {}
  }
 ]
}