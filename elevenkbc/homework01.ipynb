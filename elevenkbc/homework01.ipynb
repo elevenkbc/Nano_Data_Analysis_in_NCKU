{
 "metadata": {
  "name": "",
  "signature": "sha256:7d253c1ba6d8c6ee81ac3b7ec031fb6fd26f5aa6fd603232993b5800fe3a33f3"
 },
 "nbformat": 3,
 "nbformat_minor": 0,
 "worksheets": [
  {
   "cells": [
    {
     "cell_type": "code",
     "collapsed": false,
     "input": [
      "list=[\"Marry\",\"Jill\",\"Jackie\",\"Kitty\",\"Bob\"]\n",
      "for k in range(len(list)):\n",
      "    message=\"\"\"\u89aa\u611b\u7684 %s,\u6700\u8fd1\u597d\u55ce? \n",
      "\u8fd1\u4f86\u7e3d\u662f\u4e0d\u6642\u60f3\u8d77\u59b3, \u5c24\u5176\u662f\u7d93\u904e\u4e00\u8d77\u53bb\u904e\u7684\u5730\u65b9, \n",
      "\u7e3d\u6703\u60f3\u5230,\u300c\u554a, \u9019\u662f\u548c %s \u4f86\u904e\u7684\u5730\u65b9\u3002\u300d\n",
      "\"\"\"%(list[k],list[k])\n",
      "    print message"
     ],
     "language": "python",
     "metadata": {},
     "outputs": [
      {
       "output_type": "stream",
       "stream": "stdout",
       "text": [
        "\u89aa\u611b\u7684 Marry,\u6700\u8fd1\u597d\u55ce? \n",
        "\u8fd1\u4f86\u7e3d\u662f\u4e0d\u6642\u60f3\u8d77\u59b3, \u5c24\u5176\u662f\u7d93\u904e\u4e00\u8d77\u53bb\u904e\u7684\u5730\u65b9, \n",
        "\u7e3d\u6703\u60f3\u5230,\u300c\u554a, \u9019\u662f\u548c Marry \u4f86\u904e\u7684\u5730\u65b9\u3002\u300d\n",
        "\n",
        "\u89aa\u611b\u7684 Jill,\u6700\u8fd1\u597d\u55ce? \n",
        "\u8fd1\u4f86\u7e3d\u662f\u4e0d\u6642\u60f3\u8d77\u59b3, \u5c24\u5176\u662f\u7d93\u904e\u4e00\u8d77\u53bb\u904e\u7684\u5730\u65b9, \n",
        "\u7e3d\u6703\u60f3\u5230,\u300c\u554a, \u9019\u662f\u548c Jill \u4f86\u904e\u7684\u5730\u65b9\u3002\u300d\n",
        "\n",
        "\u89aa\u611b\u7684 Jackie,\u6700\u8fd1\u597d\u55ce? \n",
        "\u8fd1\u4f86\u7e3d\u662f\u4e0d\u6642\u60f3\u8d77\u59b3, \u5c24\u5176\u662f\u7d93\u904e\u4e00\u8d77\u53bb\u904e\u7684\u5730\u65b9, \n",
        "\u7e3d\u6703\u60f3\u5230,\u300c\u554a, \u9019\u662f\u548c Jackie \u4f86\u904e\u7684\u5730\u65b9\u3002\u300d\n",
        "\n",
        "\u89aa\u611b\u7684 Kitty,\u6700\u8fd1\u597d\u55ce? \n",
        "\u8fd1\u4f86\u7e3d\u662f\u4e0d\u6642\u60f3\u8d77\u59b3, \u5c24\u5176\u662f\u7d93\u904e\u4e00\u8d77\u53bb\u904e\u7684\u5730\u65b9, \n",
        "\u7e3d\u6703\u60f3\u5230,\u300c\u554a, \u9019\u662f\u548c Kitty \u4f86\u904e\u7684\u5730\u65b9\u3002\u300d\n",
        "\n",
        "\u89aa\u611b\u7684 Bob,\u6700\u8fd1\u597d\u55ce? \n",
        "\u8fd1\u4f86\u7e3d\u662f\u4e0d\u6642\u60f3\u8d77\u59b3, \u5c24\u5176\u662f\u7d93\u904e\u4e00\u8d77\u53bb\u904e\u7684\u5730\u65b9, \n",
        "\u7e3d\u6703\u60f3\u5230,\u300c\u554a, \u9019\u662f\u548c Bob \u4f86\u904e\u7684\u5730\u65b9\u3002\u300d\n",
        "\n"
       ]
      }
     ],
     "prompt_number": 1
    },
    {
     "cell_type": "code",
     "collapsed": false,
     "input": [],
     "language": "python",
     "metadata": {},
     "outputs": []
    }
   ],
   "metadata": {}
  }
 ]
}